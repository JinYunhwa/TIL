{
 "cells": [
  {
   "cell_type": "markdown",
   "id": "033a5d23",
   "metadata": {},
   "source": [
    "너비우선탐색 알고리즘"
   ]
  },
  {
   "cell_type": "code",
   "execution_count": null,
   "id": "9ed4dbba",
   "metadata": {},
   "outputs": [],
   "source": [
    "def BFS() :\n",
    "    que = CircularQueue()\n",
    "    que.enqueue((0,1))\n",
    "    print('BFS: ')\n",
    "    \n",
    "    while not que.isEmpty():\n",
    "        here=que.dequeue()\n",
    "        print(here, end='->')\n",
    "        x,y = here\n",
    "        if (map[y][x] == 'x') : return True\n",
    "        else : \n",
    "            map[y][x]='.'\n",
    "            if isValid"
   ]
  },
  {
   "cell_type": "code",
   "execution_count": null,
   "id": "efbc1abc",
   "metadata": {},
   "outputs": [],
   "source": [
    "dq = CircularDeque()\n",
    "for i in range(9):\n",
    "    if i%2==0 : dq.addRear(i)\n",
    "    else : dq.addFront(i)\n",
    "dq.display()\n",
    "for i in range(2): dq.deeteFront()\n",
    "for i in range(3): dq.deleteRear()\n",
    "dq.display()\n",
    "for i in range(9,14): dq.addfront(i)\n",
    "dq.display()            "
   ]
  },
  {
   "cell_type": "code",
   "execution_count": null,
   "id": "88d20507",
   "metadata": {},
   "outputs": [],
   "source": []
  },
  {
   "cell_type": "code",
   "execution_count": null,
   "id": "0dd595a3",
   "metadata": {},
   "outputs": [],
   "source": []
  }
 ],
 "metadata": {
  "kernelspec": {
   "display_name": "Python 3 (ipykernel)",
   "language": "python",
   "name": "python3"
  },
  "language_info": {
   "codemirror_mode": {
    "name": "ipython",
    "version": 3
   },
   "file_extension": ".py",
   "mimetype": "text/x-python",
   "name": "python",
   "nbconvert_exporter": "python",
   "pygments_lexer": "ipython3",
   "version": "3.8.12"
  }
 },
 "nbformat": 4,
 "nbformat_minor": 5
}
