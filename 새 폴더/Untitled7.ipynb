{
 "cells": [
  {
   "cell_type": "code",
   "execution_count": 61,
   "id": "a66c6b41-3a2e-4a71-ad4e-122f7ce370da",
   "metadata": {},
   "outputs": [],
   "source": [
    "#언더바가 아니라 더던\n",
    "\n",
    "import torch\n",
    "import torch.nn.functional as F\n",
    "from torch import nn, Tensor\n",
    "from torchsummary import summary"
   ]
  },
  {
   "cell_type": "code",
   "execution_count": 65,
   "id": "9d5182e4-7ef1-427e-8548-432a61ed36b5",
   "metadata": {},
   "outputs": [
    {
     "ename": "SyntaxError",
     "evalue": "invalid syntax (Temp/ipykernel_10700/1599974031.py, line 22)",
     "output_type": "error",
     "traceback": [
      "\u001b[1;36m  File \u001b[1;32m\"C:\\Users\\SYU\\AppData\\Local\\Temp/ipykernel_10700/1599974031.py\"\u001b[1;36m, line \u001b[1;32m22\u001b[0m\n\u001b[1;33m    self.fc1 = nn.Linear(None * ? * ?, 4096)\u001b[0m\n\u001b[1;37m                                ^\u001b[0m\n\u001b[1;31mSyntaxError\u001b[0m\u001b[1;31m:\u001b[0m invalid syntax\n"
     ]
    }
   ],
   "source": [
    "class VGGNet(nn.Module):\n",
    "    def __init__(self):\n",
    "        self.conv1 = mm.Conv2d(3, 64, kernel_size=3, stride=1, pading=1)\n",
    "        self.conv2 = mm.Conv2d(64, 64, kernel_size=3, stride=1, pading=1)\n",
    "        selfmaxpool1 = nn.MaxPool2d(kernel_size=2,stride=2)\n",
    "        self.conv3 = mm.Conv2d(64, 128, kernel_size=3, stride=1, pading=1)\n",
    "        self.conv4 = mm.Conv2d(128, 128, kernel_size=3, stride=1, pading=1)\n",
    "        selfmaxpool2 = nn.MaxPool2d(2,2)\n",
    "        self.conv5 = mm.Conv2d(128, 256, kernel_size=3, stride=1, pading=1)\n",
    "        self.conv6 = mm.Conv2d(256, 256, kernel_size=3, stride=1, pading=1)\n",
    "        self.conv7 = mm.Conv2d(256, 256, kernel_size=3, stride=1, pading=1)\n",
    "        selfmaxpool3 = nn.MaxPool2d(2,2)\n",
    "        self.conv8 = mm.Conv2d(256, 512, kernel_size=3, stride=1, pading=1)\n",
    "        self.conv9 = mm.Conv2d(512, 512, kernel_size=3, stride=1, pading=1)\n",
    "        self.conv10 = mm.Conv2d(512, 512, kernel_size=3, stride=1, pading=1)\n",
    "        selfmaxpool4 = nn.MaxPool2d(2,2)\n",
    "        self.conv11 = mm.Conv2d(512, 512, kernel_size=3, stride=1, pading=1)\n",
    "        self.conv12 = mm.Conv2d(512, 512, kernel_size=3, stride=1, pading=1)\n",
    "        self.conv13 = mm.Conv2d(512, 512, kernel_size=3, stride=1, pading=1)\n",
    "        selfmaxpool5 = nn.MaxPool2d(2,2)\n",
    "        \n",
    "        self.fc1 = nn.Linear(None * ? * ?, 4096)\n",
    "        self.fc2 = nn.Linear(4096, 4096)\n",
    "        self.fc2 = nn.Linear(4096, 1000)\n",
    "        \n",
    "        pass\n",
    "    \n",
    "    def __forward(self):\n",
    "        x = F.relu(self.conv1(x))\n",
    "        x = F.relu(self.conv2(x))\n",
    "        x = self.maxpool1(x)\n",
    "        \n",
    "        x = F.relu(self.conv3(x))\n",
    "        pass"
   ]
  },
  {
   "cell_type": "code",
   "execution_count": 66,
   "id": "29cf95c8-7416-4904-905a-fdf6ab33278c",
   "metadata": {},
   "outputs": [],
   "source": [
    "configs = {\n",
    "    'A' : [64, 'M', 128, 'M', 256, 256, 'M', 512, 512, 'M', 512, 512, 'M'],\n",
    "    'B' : [64, 64, 'M', 128, 128, 'M', 256, 256, 'M', 512, 512, 'M'],\n",
    "    'D' : [],\n",
    "    'E' : []\n",
    "}\n",
    "\n",
    "#집가서 VGGNet 하드코딩 하시길 바라겠습니다.\n",
    "#forward 메소드를 overriding해서 ~~나오도록 해보세요\n",
    "\n",
    "class VGGNet(nn.Module):\n",
    "    def __init__(self, feature_extractor):\n",
    "        super().__init__()\n",
    "        self.feature_extractor = feature_extractor\n",
    "        self.avgpool = nn.AdaptiveAvgPool2d((7,7))\n",
    "        self.classifier = nn.Sequential(\n",
    "            nn.Linear(512 * 7 * 7, 4096),\n",
    "            nn.ReLU(),\n",
    "            nn.Dropout(p=0.5),\n",
    "            nn.Linear(4096, 4096),\n",
    "            nn.ReLU(),\n",
    "            nn.Dropout(p=0.5),\n",
    "            nn.Linear(4096, 1000)\n",
    "        )\n",
    "    \n",
    "    def forward(self):\n",
    "        x = F.relu(self.conv1(x))\n",
    "        x = F.relu(self.conv2(x))\n",
    "        x = self.maxpool1(x)\n",
    "        \n",
    "        x = F.relu(self.conv3(x))\n",
    "        return\n",
    "    \n",
    "# configs가 아니라 config를 사용한 이유 : 모형을 동시에 다 받을 순 없습니다.\n",
    "# configs의 type이 list이므로 config는 List를 받아야함.\n",
    "def generate_feature_extractor(config: list):\n",
    "    layers = []\n",
    "    in_channels = 3\n",
    "    for value in config:\n",
    "        if isinstance(value, int):\n",
    "            conv2d = nn.Conv2d(in_channels, value, kernel_size=3, padding=1)\n",
    "            layers += [conv2d, nn.ReLU()]\n",
    "            in_channels = value\n",
    "        else:\n",
    "            layers += [nn.MaxPool2d(kernel_size=2, stride=2)]\n",
    "            \n",
    "    return nn.Sequential(*layers)\n",
    "    \n",
    "    "
   ]
  },
  {
   "cell_type": "code",
   "execution_count": 69,
   "id": "4056df31-7c6a-43b8-ac05-71430c74ec1d",
   "metadata": {},
   "outputs": [
    {
     "ename": "TypeError",
     "evalue": "forward() takes 1 positional argument but 2 were given",
     "output_type": "error",
     "traceback": [
      "\u001b[1;31m---------------------------------------------------------------------------\u001b[0m",
      "\u001b[1;31mTypeError\u001b[0m                                 Traceback (most recent call last)",
      "\u001b[1;32m~\\AppData\\Local\\Temp/ipykernel_10700/846367876.py\u001b[0m in \u001b[0;36m<module>\u001b[1;34m\u001b[0m\n\u001b[0;32m      1\u001b[0m \u001b[0mvgg13\u001b[0m \u001b[1;33m=\u001b[0m \u001b[0mVGGNet\u001b[0m\u001b[1;33m(\u001b[0m\u001b[0mgenerate_feature_extractor\u001b[0m\u001b[1;33m(\u001b[0m\u001b[0mconfigs\u001b[0m\u001b[1;33m[\u001b[0m\u001b[1;34m'B'\u001b[0m\u001b[1;33m]\u001b[0m\u001b[1;33m)\u001b[0m\u001b[1;33m)\u001b[0m\u001b[1;33m\u001b[0m\u001b[1;33m\u001b[0m\u001b[0m\n\u001b[1;32m----> 2\u001b[1;33m \u001b[0mprint\u001b[0m\u001b[1;33m(\u001b[0m\u001b[0msummary\u001b[0m\u001b[1;33m(\u001b[0m\u001b[0mvgg13\u001b[0m\u001b[1;33m,\u001b[0m \u001b[0minput_size\u001b[0m\u001b[1;33m=\u001b[0m\u001b[1;33m(\u001b[0m\u001b[1;36m1\u001b[0m\u001b[1;33m,\u001b[0m\u001b[1;36m3\u001b[0m\u001b[1;33m,\u001b[0m\u001b[1;36m224\u001b[0m\u001b[1;33m,\u001b[0m\u001b[1;36m224\u001b[0m\u001b[1;33m)\u001b[0m\u001b[1;33m)\u001b[0m\u001b[1;33m)\u001b[0m\u001b[1;33m\u001b[0m\u001b[1;33m\u001b[0m\u001b[0m\n\u001b[0m",
      "\u001b[1;32m~\\anaconda3\\lib\\site-packages\\torchsummary\\torchsummary.py\u001b[0m in \u001b[0;36msummary\u001b[1;34m(model, input_size, batch_size, device)\u001b[0m\n\u001b[0;32m     70\u001b[0m     \u001b[1;31m# make a forward pass\u001b[0m\u001b[1;33m\u001b[0m\u001b[1;33m\u001b[0m\u001b[0m\n\u001b[0;32m     71\u001b[0m     \u001b[1;31m# print(x.shape)\u001b[0m\u001b[1;33m\u001b[0m\u001b[1;33m\u001b[0m\u001b[0m\n\u001b[1;32m---> 72\u001b[1;33m     \u001b[0mmodel\u001b[0m\u001b[1;33m(\u001b[0m\u001b[1;33m*\u001b[0m\u001b[0mx\u001b[0m\u001b[1;33m)\u001b[0m\u001b[1;33m\u001b[0m\u001b[1;33m\u001b[0m\u001b[0m\n\u001b[0m\u001b[0;32m     73\u001b[0m \u001b[1;33m\u001b[0m\u001b[0m\n\u001b[0;32m     74\u001b[0m     \u001b[1;31m# remove these hooks\u001b[0m\u001b[1;33m\u001b[0m\u001b[1;33m\u001b[0m\u001b[0m\n",
      "\u001b[1;32m~\\anaconda3\\lib\\site-packages\\torch\\nn\\modules\\module.py\u001b[0m in \u001b[0;36m_call_impl\u001b[1;34m(self, *input, **kwargs)\u001b[0m\n\u001b[0;32m   1108\u001b[0m         if not (self._backward_hooks or self._forward_hooks or self._forward_pre_hooks or _global_backward_hooks\n\u001b[0;32m   1109\u001b[0m                 or _global_forward_hooks or _global_forward_pre_hooks):\n\u001b[1;32m-> 1110\u001b[1;33m             \u001b[1;32mreturn\u001b[0m \u001b[0mforward_call\u001b[0m\u001b[1;33m(\u001b[0m\u001b[1;33m*\u001b[0m\u001b[0minput\u001b[0m\u001b[1;33m,\u001b[0m \u001b[1;33m**\u001b[0m\u001b[0mkwargs\u001b[0m\u001b[1;33m)\u001b[0m\u001b[1;33m\u001b[0m\u001b[1;33m\u001b[0m\u001b[0m\n\u001b[0m\u001b[0;32m   1111\u001b[0m         \u001b[1;31m# Do not call functions when jit is used\u001b[0m\u001b[1;33m\u001b[0m\u001b[1;33m\u001b[0m\u001b[0m\n\u001b[0;32m   1112\u001b[0m         \u001b[0mfull_backward_hooks\u001b[0m\u001b[1;33m,\u001b[0m \u001b[0mnon_full_backward_hooks\u001b[0m \u001b[1;33m=\u001b[0m \u001b[1;33m[\u001b[0m\u001b[1;33m]\u001b[0m\u001b[1;33m,\u001b[0m \u001b[1;33m[\u001b[0m\u001b[1;33m]\u001b[0m\u001b[1;33m\u001b[0m\u001b[1;33m\u001b[0m\u001b[0m\n",
      "\u001b[1;31mTypeError\u001b[0m: forward() takes 1 positional argument but 2 were given"
     ]
    }
   ],
   "source": [
    "vgg13 = VGGNet(generate_feature_extractor(configs['B']))\n",
    "print(summary(vgg13, input_size=(1,3,384,384)))"
   ]
  },
  {
   "cell_type": "code",
   "execution_count": null,
   "id": "51d6c392-f5cb-40fd-9f2f-190715e7e239",
   "metadata": {},
   "outputs": [],
   "source": [
    "type(configs['B'])"
   ]
  },
  {
   "cell_type": "code",
   "execution_count": 46,
   "id": "0326733a-cbfa-4bf2-bb08-5a68e216de44",
   "metadata": {},
   "outputs": [
    {
     "name": "stdout",
     "output_type": "stream",
     "text": [
      "[Conv2d(3, 64, kernel_size=(3, 3), stride=(1, 1), padding=(1, 1)),\n",
      " ReLU(),\n",
      " MaxPool2d(kernel_size=2, stride=2, padding=0, dilation=1, ceil_mode=False),\n",
      " Conv2d(64, 128, kernel_size=(3, 3), stride=(1, 1), padding=(1, 1)),\n",
      " ReLU(),\n",
      " MaxPool2d(kernel_size=2, stride=2, padding=0, dilation=1, ceil_mode=False),\n",
      " Conv2d(128, 256, kernel_size=(3, 3), stride=(1, 1), padding=(1, 1)),\n",
      " ReLU(),\n",
      " Conv2d(256, 256, kernel_size=(3, 3), stride=(1, 1), padding=(1, 1)),\n",
      " ReLU(),\n",
      " MaxPool2d(kernel_size=2, stride=2, padding=0, dilation=1, ceil_mode=False),\n",
      " Conv2d(256, 512, kernel_size=(3, 3), stride=(1, 1), padding=(1, 1)),\n",
      " ReLU(),\n",
      " Conv2d(512, 512, kernel_size=(3, 3), stride=(1, 1), padding=(1, 1)),\n",
      " ReLU(),\n",
      " MaxPool2d(kernel_size=2, stride=2, padding=0, dilation=1, ceil_mode=False),\n",
      " Conv2d(512, 512, kernel_size=(3, 3), stride=(1, 1), padding=(1, 1)),\n",
      " ReLU(),\n",
      " Conv2d(512, 512, kernel_size=(3, 3), stride=(1, 1), padding=(1, 1)),\n",
      " ReLU(),\n",
      " MaxPool2d(kernel_size=2, stride=2, padding=0, dilation=1, ceil_mode=False)]\n"
     ]
    }
   ],
   "source": [
    "import pprint\n",
    "\n",
    "pprint.pprint(generate_feature_extractor(configs['A']))"
   ]
  },
  {
   "cell_type": "code",
   "execution_count": null,
   "id": "f7a61496-2f0a-4097-a977-9d2ea01b691d",
   "metadata": {},
   "outputs": [],
   "source": []
  }
 ],
 "metadata": {
  "kernelspec": {
   "display_name": "Python 3 (ipykernel)",
   "language": "python",
   "name": "python3"
  },
  "language_info": {
   "codemirror_mode": {
    "name": "ipython",
    "version": 3
   },
   "file_extension": ".py",
   "mimetype": "text/x-python",
   "name": "python",
   "nbconvert_exporter": "python",
   "pygments_lexer": "ipython3",
   "version": "3.9.7"
  }
 },
 "nbformat": 4,
 "nbformat_minor": 5
}
