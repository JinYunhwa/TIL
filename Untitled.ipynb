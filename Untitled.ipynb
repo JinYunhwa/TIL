{
 "cells": [
  {
   "cell_type": "markdown",
   "id": "df099871",
   "metadata": {},
   "source": [
    "# LeNet-5"
   ]
  },
  {
   "cell_type": "markdown",
   "id": "6a66a89b",
   "metadata": {},
   "source": [
    "jupyter notebook의 markdown 사용법 익히기"
   ]
  },
  {
   "cell_type": "code",
   "execution_count": 14,
   "id": "3745c7c1",
   "metadata": {},
   "outputs": [],
   "source": [
    "import torch\n",
    "from torch import nn, Tensor\n",
    "from torchinfo import summary\n",
    "\n",
    "# ?주피터 노트북에서 해당 명령어가 어떤 인자를 받는지 아는방법\n",
    "\n",
    "# ?주피터 노트북에서 해당 명령어가 어떤 인자를 받는지 아는방법\n",
    "        #클론코딩은 중요한ㄱㅏ?\n",
    "\n",
    "lenet = nn.Sequential(\n",
    "   nn.Conv2d(\n",
    "        in_channels=1,\n",
    "        out_channels=6,\n",
    "        kernel_size=5,\n",
    "        stride=1\n",
    "    ),\n",
    "    nn.Tanh(),\n",
    "    nn.AvgPool2d(kernel_size=2),\n",
    "    nn.Conv2d(\n",
    "        in_channels=6, out_channels=16,\n",
    "        kernel_size=5, stride=1\n",
    "    ),\n",
    "    nn.Tanh(),\n",
    "    #tap을 누르면 자동완성됨.\n",
    "    nn.AvgPool2d(kernel_size=2),\n",
    "    nn.Conv2d(\n",
    "        in_channels=16, out_channels=120,\n",
    "        kernel_size=5, stride=1\n",
    "    ),\n",
    "    nn.Tanh(),\n",
    "    nn.Linear(in_features=120, out_features=84),\n",
    "    nn.Tanh(),\n",
    "    nn.Linear(in_features=84, out_features=10)\n",
    ")\n",
    "\n",
    "#그대로 하고자하면 에러가난다. 왤까?\n"
   ]
  },
  {
   "cell_type": "code",
   "execution_count": 22,
   "id": "a44c91c1",
   "metadata": {},
   "outputs": [
    {
     "data": {
      "text/plain": [
       "==========================================================================================\n",
       "Layer (type:depth-idx)                   Output Shape              Param #\n",
       "==========================================================================================\n",
       "LeNet5                                   --                        --\n",
       "├─Sequential: 1-1                        [1, 120, 1, 1]            --\n",
       "│    └─Conv2d: 2-1                       [1, 6, 28, 28]            156\n",
       "│    └─Tanh: 2-2                         [1, 6, 28, 28]            --\n",
       "│    └─AvgPool2d: 2-3                    [1, 6, 14, 14]            --\n",
       "│    └─Conv2d: 2-4                       [1, 16, 10, 10]           2,416\n",
       "│    └─Tanh: 2-5                         [1, 16, 10, 10]           --\n",
       "│    └─AvgPool2d: 2-6                    [1, 16, 5, 5]             --\n",
       "│    └─Conv2d: 2-7                       [1, 120, 1, 1]            48,120\n",
       "│    └─Tanh: 2-8                         [1, 120, 1, 1]            --\n",
       "├─Sequential: 1-2                        [1, 10]                   --\n",
       "│    └─Linear: 2-9                       [1, 84]                   10,164\n",
       "│    └─Tanh: 2-10                        [1, 84]                   --\n",
       "│    └─Linear: 2-11                      [1, 10]                   850\n",
       "==========================================================================================\n",
       "Total params: 61,706\n",
       "Trainable params: 61,706\n",
       "Non-trainable params: 0\n",
       "Total mult-adds (M): 0.42\n",
       "==========================================================================================\n",
       "Input size (MB): 0.00\n",
       "Forward/backward pass size (MB): 0.05\n",
       "Params size (MB): 0.25\n",
       "Estimated Total Size (MB): 0.30\n",
       "=========================================================================================="
      ]
     },
     "execution_count": 22,
     "metadata": {},
     "output_type": "execute_result"
    }
   ],
   "source": [
    "import torch\n",
    "from torch import nn, Tensor\n",
    "from torchinfo import summary\n",
    "\n",
    "#nn과 Module은 수많은 뭐시기(아마 코드)로 이미 이루어져있다.\n",
    "class LeNet5(nn.Module):\n",
    "    def __init__(self):\n",
    "        super().__init__()\n",
    "        self.feature_extractor = nn.Sequential(\n",
    "            nn.Conv2d(\n",
    "                in_channels=1,\n",
    "                out_channels=6,\n",
    "                kernel_size=5,\n",
    "                stride=1\n",
    "            ),\n",
    "            nn.Tanh(),\n",
    "            nn.AvgPool2d(kernel_size=2),\n",
    "            nn.Conv2d(\n",
    "                in_channels=6, out_channels=16,\n",
    "                kernel_size=5, stride=1\n",
    "            ),\n",
    "            nn.Tanh(),\n",
    "            nn.AvgPool2d(kernel_size=2),\n",
    "            nn.Conv2d(\n",
    "                in_channels=16, out_channels=120,\n",
    "                kernel_size=5, stride=1\n",
    "            ),\n",
    "            nn.Tanh()\n",
    "        )\n",
    "        self.classfier = nn.Sequential(\n",
    "            nn.Linear(in_features=120, out_features=84),\n",
    "            nn.Tanh(),\n",
    "            nn.Linear(in_features=84, out_features=10)\n",
    "        )\n",
    "    def forward(self, x):\n",
    "        x = self.feature_extractor(x)\n",
    "        x = torch.flatten(x,1)\n",
    "        x = self.classfier(x)\n",
    "        return x\n",
    "\n",
    "lenet = LeNet5()\n",
    "summary(lenet, input_size=(1,1,32,32))\n"
   ]
  },
  {
   "cell_type": "code",
   "execution_count": null,
   "id": "7361cca7",
   "metadata": {},
   "outputs": [],
   "source": [
    "\n"
   ]
  }
 ],
 "metadata": {
  "kernelspec": {
   "display_name": "Python 3 (ipykernel)",
   "language": "python",
   "name": "python3"
  },
  "language_info": {
   "codemirror_mode": {
    "name": "ipython",
    "version": 3
   },
   "file_extension": ".py",
   "mimetype": "text/x-python",
   "name": "python",
   "nbconvert_exporter": "python",
   "pygments_lexer": "ipython3",
   "version": "3.9.7"
  }
 },
 "nbformat": 4,
 "nbformat_minor": 5
}
