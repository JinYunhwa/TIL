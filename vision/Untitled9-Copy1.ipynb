{
 "cells": [
  {
   "cell_type": "code",
   "execution_count": 2,
   "id": "7cdba4c2",
   "metadata": {},
   "outputs": [],
   "source": [
    "def dequeue( self ):\n",
    "    if not self.isEmpty():\n",
    "        data = self.front.data\n",
    "        self.front = self.front.next\n",
    "        if self.front==None :\n",
    "            self.rear=None\n",
    "        else:\n",
    "            self.front.prev = None\n",
    "        return data\n",
    "    \n",
    "def deletRear (self):\n",
    "    if not self.isEmpty():\n",
    "        data = self.rear.data\n",
    "        self.rear = self.rer.prev\n",
    "        if self.rear==None :\n",
    "            self.front=None\n",
    "        else:\n",
    "            self.rear.next=None\n",
    "        return data"
   ]
  },
  {
   "cell_type": "code",
   "execution_count": null,
   "id": "3f086ebc",
   "metadata": {},
   "outputs": [],
   "source": [
    "class CircularQueue : \n",
    "    def __init__(self) :\n",
    "        self.front = 0\n",
    "        self.rear = 0\n",
    "        self.items = [None]\n",
    "        \n",
    "    def isEmpty(self) : return self.front == self.rear\n",
    "    "
   ]
  },
  {
   "cell_type": "markdown",
   "id": "64b928c7",
   "metadata": {},
   "source": [
    "# 트리구조"
   ]
  },
  {
   "cell_type": "code",
   "execution_count": 3,
   "id": "540c50aa",
   "metadata": {},
   "outputs": [],
   "source": [
    "def pereorder(n) :\n",
    "    if n is not None : \n",
    "        print(n.data, end='')\n",
    "        preorder(n.left)\n",
    "        preorder(n.right)"
   ]
  },
  {
   "cell_type": "code",
   "execution_count": 5,
   "id": "338eca72",
   "metadata": {},
   "outputs": [],
   "source": [
    "def inorder(n) :\n",
    "    if n is not None :\n",
    "        inorder(n.left)\n",
    "        print(n.data, end='')\n",
    "        inorder(n,right)"
   ]
  },
  {
   "cell_type": "code",
   "execution_count": 6,
   "id": "73115920",
   "metadata": {},
   "outputs": [],
   "source": [
    "def postorder(n):\n",
    "    if n is not None :\n",
    "        postorder(n.left)\n",
    "        postorder(n.right)\n",
    "        print(n.data, end='')"
   ]
  },
  {
   "cell_type": "code",
   "execution_count": 7,
   "id": "58713f42",
   "metadata": {},
   "outputs": [
    {
     "ename": "SyntaxError",
     "evalue": "unexpected EOF while parsing (Temp/ipykernel_15032/3158644316.py, line 6)",
     "output_type": "error",
     "traceback": [
      "\u001b[1;36m  File \u001b[1;32m\"C:\\Users\\SYU\\AppData\\Local\\Temp/ipykernel_15032/3158644316.py\"\u001b[1;36m, line \u001b[1;32m6\u001b[0m\n\u001b[1;33m    if n is not None :\u001b[0m\n\u001b[1;37m                       ^\u001b[0m\n\u001b[1;31mSyntaxError\u001b[0m\u001b[1;31m:\u001b[0m unexpected EOF while parsing\n"
     ]
    }
   ],
   "source": [
    "def levelorder(root):\n",
    "    queue = CircularQueue()\n",
    "    queue.enqueue(root)\n",
    "    while not queue.isEmpty():\n",
    "        n = queue.dequeue()\n",
    "        if n is not None : "
   ]
  },
  {
   "cell_type": "code",
   "execution_count": 18,
   "id": "69227f97",
   "metadata": {},
   "outputs": [],
   "source": [
    "class TNode():\n",
    "    def __init__(self, data, left, right):\n",
    "        self.data = data\n",
    "        self.left = left\n",
    "        self.right = right"
   ]
  },
  {
   "cell_type": "code",
   "execution_count": 35,
   "id": "67e68bd5",
   "metadata": {},
   "outputs": [
    {
     "name": "stdout",
     "output_type": "stream",
     "text": [
      "pre-Order:DEBFCA\n",
      "post-Order:DEBFCA\n",
      "in-Order:DBEAFC\n",
      "Level-Order:"
     ]
    },
    {
     "ename": "NameError",
     "evalue": "name 'levelorder' is not defined",
     "output_type": "error",
     "traceback": [
      "\u001b[1;31m---------------------------------------------------------------------------\u001b[0m",
      "\u001b[1;31mNameError\u001b[0m                                 Traceback (most recent call last)",
      "\u001b[1;32m~\\AppData\\Local\\Temp/ipykernel_15032/2196760282.py\u001b[0m in \u001b[0;36m<module>\u001b[1;34m\u001b[0m\n\u001b[0;32m     42\u001b[0m \u001b[1;33m\u001b[0m\u001b[0m\n\u001b[0;32m     43\u001b[0m \u001b[0mprint\u001b[0m\u001b[1;33m(\u001b[0m\u001b[1;34m\"\\nLevel-Order:\"\u001b[0m\u001b[1;33m,\u001b[0m \u001b[0mend\u001b[0m\u001b[1;33m=\u001b[0m\u001b[1;34m''\u001b[0m\u001b[1;33m)\u001b[0m\u001b[1;33m\u001b[0m\u001b[1;33m\u001b[0m\u001b[0m\n\u001b[1;32m---> 44\u001b[1;33m \u001b[0mlevelorder\u001b[0m\u001b[1;33m(\u001b[0m\u001b[0mroot\u001b[0m\u001b[1;33m)\u001b[0m\u001b[1;33m\u001b[0m\u001b[1;33m\u001b[0m\u001b[0m\n\u001b[0m\u001b[0;32m     45\u001b[0m \u001b[1;33m\u001b[0m\u001b[0m\n\u001b[0;32m     46\u001b[0m \u001b[1;33m\u001b[0m\u001b[0m\n",
      "\u001b[1;31mNameError\u001b[0m: name 'levelorder' is not defined"
     ]
    }
   ],
   "source": [
    "d = TNode('D',None, None)\n",
    "e = TNode('E',None, None)\n",
    "f = TNode('F',None, None)\n",
    "b = TNode('B', d, e)\n",
    "c = TNode('C', f, None)\n",
    "root = TNode('A', b, c)\n",
    "\n",
    "def preorder(n):\n",
    "    if n is not None:\n",
    "        preorder(n.left)\n",
    "        preorder(n.right)\n",
    "        print(n.data, end='')\n",
    "        \n",
    "def postorder(n):\n",
    "    if n is not None:\n",
    "        postorder(n.left)\n",
    "        postorder(n.right)\n",
    "        print(n.data, end='')\n",
    "        \n",
    "def inorder(n):\n",
    "    if n is not None:\n",
    "        inorder(n.left)\n",
    "        print(n.data, end='')\n",
    "        inorder(n.right)\n",
    "\n",
    "print(\"pre-Order:\", end='')\n",
    "preorder(root)\n",
    "print(\"\\npost-Order:\", end='')\n",
    "postorder(root)\n",
    "print(\"\\nin-Order:\", end='')\n",
    "inorder(root)\n",
    "\n",
    "def leveloder(root):\n",
    "    queue = CircularQueue\n",
    "    queue.enqueue(root)\n",
    "    while not queue.isEmpty():\n",
    "        n = queue.dequeue()\n",
    "        if n is not None:\n",
    "            print(n.data, end = '')\n",
    "            queue.enqueue(n.left)\n",
    "            queue.enqueue(n.right)\n",
    "\n",
    "print(\"\\nLevel-Order:\", end='')\n",
    "levelorder(root)\n",
    "\n",
    "\n",
    "def cotn_none(n):\n",
    "    if n is None:\n",
    "        return 0\n",
    "    else:\n",
    "        return coun_node(n.left)+coutn_node(n.right)+1\n",
    "print(\"\\n\")\n",
    "\n",
    "pritn(\"노드의 갯수: %개\" %count_node(root) )\n",
    "print(f\"노드의 갯수 : {count_node(root)}개\")"
   ]
  },
  {
   "cell_type": "markdown",
   "id": "50fa24e7",
   "metadata": {},
   "source": [
    "# 모르스 코드"
   ]
  },
  {
   "cell_type": "code",
   "execution_count": null,
   "id": "a0ab8297",
   "metadata": {},
   "outputs": [],
   "source": [
    "def make_morse_tree():\n",
    "    root = TNode(None,None,None)\n",
    "    for tp in table : \n",
    "        code = tp[1]\n",
    "        node = root\n",
    "    for c in code : \n",
    "        if c == '.':\n",
    "            if node.left == None:\n",
    "                node.left = TNode(None,None,None)\n",
    "            node = node.left\n",
    "        elif c =='-':\n",
    "            if node.right == None:\n",
    "                node.right = TNode(None,None,None)\n",
    "            node = node.right\n",
    "            \n",
    "            \n",
    "        node.data = tp[0]\n",
    "    return root\n",
    "\n",
    "def decode(root, code):\n",
    "    node = root\n",
    "    for c in code:\n",
    "        if c =='.':node = node.left\n",
    "            "
   ]
  },
  {
   "cell_type": "code",
   "execution_count": 38,
   "id": "1483aee6",
   "metadata": {},
   "outputs": [
    {
     "name": "stdout",
     "output_type": "stream",
     "text": [
      "문장을 입력하세요: YJH\n",
      "Morse Code:  ['-.--', '.---', '....']\n"
     ]
    },
    {
     "ename": "NameError",
     "evalue": "name 'morse_code_Tree' is not defined",
     "output_type": "error",
     "traceback": [
      "\u001b[1;31m---------------------------------------------------------------------------\u001b[0m",
      "\u001b[1;31mNameError\u001b[0m                                 Traceback (most recent call last)",
      "\u001b[1;32m~\\AppData\\Local\\Temp/ipykernel_15032/900178232.py\u001b[0m in \u001b[0;36m<module>\u001b[1;34m\u001b[0m\n\u001b[0;32m     49\u001b[0m \u001b[1;33m\u001b[0m\u001b[0m\n\u001b[0;32m     50\u001b[0m \u001b[1;32mfor\u001b[0m \u001b[0mcode\u001b[0m \u001b[1;32min\u001b[0m \u001b[0mmlist\u001b[0m\u001b[1;33m:\u001b[0m\u001b[1;33m\u001b[0m\u001b[1;33m\u001b[0m\u001b[0m\n\u001b[1;32m---> 51\u001b[1;33m     \u001b[0mch\u001b[0m \u001b[1;33m=\u001b[0m \u001b[0mdecode\u001b[0m\u001b[1;33m(\u001b[0m\u001b[0mmorse_code_Tree\u001b[0m\u001b[1;33m,\u001b[0m \u001b[0mcode\u001b[0m\u001b[1;33m)\u001b[0m\u001b[1;33m\u001b[0m\u001b[1;33m\u001b[0m\u001b[0m\n\u001b[0m\u001b[0;32m     52\u001b[0m     \u001b[0mprint\u001b[0m\u001b[1;33m(\u001b[0m\u001b[0mch\u001b[0m\u001b[1;33m,\u001b[0m \u001b[0mend\u001b[0m\u001b[1;33m=\u001b[0m\u001b[1;34m''\u001b[0m\u001b[1;33m)\u001b[0m\u001b[1;33m\u001b[0m\u001b[1;33m\u001b[0m\u001b[0m\n\u001b[0;32m     53\u001b[0m \u001b[0mprint\u001b[0m\u001b[1;33m(\u001b[0m\u001b[1;33m)\u001b[0m\u001b[1;33m\u001b[0m\u001b[1;33m\u001b[0m\u001b[0m\n",
      "\u001b[1;31mNameError\u001b[0m: name 'morse_code_Tree' is not defined"
     ]
    }
   ],
   "source": [
    "table =[('A', '.-'),    ('B', '-...'),  ('C', '-.-.'),  ('D', '-..'),\n",
    "        ('E', '.'),     ('F', '..-.'),  ('G', '--.'),   ('H', '....'),\n",
    "        ('I', '..'),    ('J', '.---'),  ('K', '-.-'),   ('L', '.-..'),\n",
    "        ('M', '--'),    ('N', '-.'),    ('O', '---'),   ('P', '.--.'),\n",
    "        ('Q', '--.-'),  ('R', '.-.'),   ('S', '...'),   ('T', '-'),\n",
    "        ('U', '..-'),   ('V', '...-'),  ('W', '.--'),   ('X', '-..-'),\n",
    "        ('Y', '-.--'),  ('Z', '--..') ]\n",
    "\n",
    "def make_moarse_tree():\n",
    "    root = TNode(None,None,None)\n",
    "    for tp in table : \n",
    "        code = tp[1]\n",
    "        node = root\n",
    "    for c in code : \n",
    "        if c == '.':\n",
    "            if node.left == None:\n",
    "                node.left = TNode(None,None,None)\n",
    "            node = node.left\n",
    "        elif c =='-':\n",
    "            if node.right == None:\n",
    "                node.right = TNode(None,None,None)\n",
    "            node = node.right\n",
    "            \n",
    "        \n",
    "        node.data = tp[0]\n",
    "    return root\n",
    "\n",
    "def decode(root, code):\n",
    "    node = root\n",
    "    for c in code:\n",
    "        if c=='.':\n",
    "            node = node.left\n",
    "        elif c=='-':\n",
    "            node = node.righ\n",
    "        return node.data\n",
    "    \n",
    "def encode(ch):\n",
    "    idx = ord(ch) - ord('A')\n",
    "    return table[idx][1]\n",
    "\n",
    "morse_code_tree = make_moarse_tree()\n",
    "\n",
    "str = input(\"문장을 입력하세요: \")\n",
    "mlist = []\n",
    "for ch in str:\n",
    "    code = encode(ch)\n",
    "    mlist.append(code)\n",
    "print(\"Morse Code: \", mlist)\n",
    "\n",
    "for code in mlist:\n",
    "    ch = decode(morse_code_Tree, code)\n",
    "    print(ch, end='')\n",
    "print()"
   ]
  },
  {
   "cell_type": "markdown",
   "id": "f9938534",
   "metadata": {},
   "source": [
    "# 힙 트리"
   ]
  },
  {
   "cell_type": "code",
   "execution_count": 45,
   "id": "2807fd18",
   "metadata": {},
   "outputs": [
    {
     "ename": "SyntaxError",
     "evalue": "invalid syntax (Temp/ipykernel_15032/4172391432.py, line 28)",
     "output_type": "error",
     "traceback": [
      "\u001b[1;36m  File \u001b[1;32m\"C:\\Users\\SYU\\AppData\\Local\\Temp/ipykernel_15032/4172391432.py\"\u001b[1;36m, line \u001b[1;32m28\u001b[0m\n\u001b[1;33m    While(i!= 1 and n > self.Parent(i)):\u001b[0m\n\u001b[1;37m                                        ^\u001b[0m\n\u001b[1;31mSyntaxError\u001b[0m\u001b[1;31m:\u001b[0m invalid syntax\n"
     ]
    }
   ],
   "source": [
    "heap = MaxHeap()\n",
    "data = [2,5,4,8,9,3,7,3]\n",
    "print(\"[삽입 연산]:\", data)\n",
    "for elem in data : \n",
    "    heap.insert(elem)\n",
    "heap.display('[삽입 후]:')\n",
    "heap.delete()\n",
    "heap.display('[삭제 후]:')\n",
    "heap.delete()\n",
    "heap.display('[삭제 후]:')\n",
    "\n",
    "class MaxHeap : \n",
    "    def __init__ (self) : \n",
    "        self.heap = []\n",
    "        self.heap.append(0)\n",
    "        \n",
    "    def size(self) : return len(self.heapt) -1\n",
    "    def isEmpty(self) : return self.size()== 0\n",
    "    def Parent(self,i): return self.heap[i//2]\n",
    "    def Left(self,i): return self.heap[i*2]\n",
    "    def Right(self,i): return self.heap[i*2+1]\n",
    "    def display(self,msg = '힙트리: '):\n",
    "        print(msg, self.heap[1:])\n",
    "        \n",
    "    def inserf(self,n) :\n",
    "        self.heap.append(n)\n",
    "        i = self.size()\n",
    "        While(i != 1 and n > self.Parent(i)):\n",
    "            self.heap[i] = self.Parent(i)\n",
    "            i = i // 2\n",
    "        self.heap[i] = n\n",
    "        \n",
    "    def delete(self):\n",
    "        parent = 1\n",
    "        child = 2\n",
    "        if not self.isEmpty() :\n",
    "            hroot = self.heap[1]\n",
    "            last = self.heap[self.size()]\n",
    "            while(child <= self.size()):\n",
    "                if child<self.size()and self.Left(parent)<self.Right(parent):\n",
    "                    child+= 1\n",
    "                if last >= self.heap[child]:\n",
    "                    break;\n",
    "                    \n",
    "                self.heap[parent] = self.heap[child]\n",
    "                parent = child\n",
    "                child*=2;\n",
    "                \n",
    "            self.heap[parent] = last\n",
    "            self.heap.pop(-1)\n",
    "            return hroot\n",
    "        "
   ]
  },
  {
   "cell_type": "code",
   "execution_count": null,
   "id": "c82b2911",
   "metadata": {},
   "outputs": [],
   "source": []
  }
 ],
 "metadata": {
  "kernelspec": {
   "display_name": "Python 3 (ipykernel)",
   "language": "python",
   "name": "python3"
  },
  "language_info": {
   "codemirror_mode": {
    "name": "ipython",
    "version": 3
   },
   "file_extension": ".py",
   "mimetype": "text/x-python",
   "name": "python",
   "nbconvert_exporter": "python",
   "pygments_lexer": "ipython3",
   "version": "3.8.12"
  }
 },
 "nbformat": 4,
 "nbformat_minor": 5
}
